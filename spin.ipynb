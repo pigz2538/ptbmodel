{
 "cells": [
  {
   "cell_type": "code",
   "execution_count": 263,
   "metadata": {},
   "outputs": [],
   "source": [
    "import numpy as np\n",
    "import dgl\n",
    "import torch\n",
    "from pymatgen.core.structure import Structure\n",
    "import pandas as pd\n",
    "# import cugraph\n",
    "# import cudf\n",
    "from dgl import backend as F\n",
    "from copy import deepcopy\n",
    "import matplotlib.pyplot as plt\n",
    "from pymatgen.electronic_structure.core import Orbital\n",
    "from pymatgen.io.cif import CifWriter \n",
    "import scipy.constants as C"
   ]
  },
  {
   "cell_type": "code",
   "execution_count": 239,
   "metadata": {},
   "outputs": [
    {
     "name": "stdout",
     "output_type": "stream",
     "text": [
      "1\n"
     ]
    },
    {
     "name": "stderr",
     "output_type": "stream",
     "text": [
      "/home/pigz2538/Tools/anaconda3/envs/matformer/lib/python3.10/site-packages/pymatgen/io/cif.py:1200: UserWarning: Issues encountered while parsing CIF: 4 fractional coordinates rounded to ideal values to avoid issues with finite precision.\n",
      "  warnings.warn(\"Issues encountered while parsing CIF: \" + \"\\n\".join(self.warnings))\n"
     ]
    }
   ],
   "source": [
    "cif_file = '/media/pigz2538/e30413cf-5429-46b3-8fe9-ea458052c437/文档/ptbmodel/datas/test_data/raw/MoS2_p6m2/MoS2_p6m2.cif'\n",
    "crystal = Structure.from_file(cif_file)\n",
    "crystaltrans = deepcopy(crystal)\n",
    "crystal.to_unit_cell = True"
   ]
  },
  {
   "cell_type": "code",
   "execution_count": 247,
   "metadata": {},
   "outputs": [],
   "source": [
    "crystal.rotate_sites([0,1,2],theta=(np.pi/2),axis=np.array([0,0,1]),anchor=[0.5,0.5,0.5], to_unit_cell=False)"
   ]
  },
  {
   "cell_type": "code",
   "execution_count": 241,
   "metadata": {},
   "outputs": [
    {
     "data": {
      "text/plain": [
       "array([[ 0.        ,  0.        ,  9.06355632],\n",
       "       [ 1.59203323,  0.91916082, 10.62711265],\n",
       "       [ 1.59203323,  0.91916082,  7.5       ]])"
      ]
     },
     "execution_count": 241,
     "metadata": {},
     "output_type": "execute_result"
    }
   ],
   "source": [
    "crystaltrans.cart_coords"
   ]
  },
  {
   "cell_type": "code",
   "execution_count": 248,
   "metadata": {},
   "outputs": [
    {
     "data": {
      "text/plain": [
       "array([[-2.22044605e-16,  5.55111512e-17,  9.06355632e+00],\n",
       "       [ 1.59203323e+00,  9.19160815e-01,  1.06271127e+01],\n",
       "       [ 1.59203323e+00,  9.19160815e-01,  7.50000000e+00]])"
      ]
     },
     "execution_count": 248,
     "metadata": {},
     "output_type": "execute_result"
    }
   ],
   "source": [
    "crystal.cart_coords"
   ]
  },
  {
   "cell_type": "code",
   "execution_count": 249,
   "metadata": {},
   "outputs": [],
   "source": [
    "crystal.to_unit_cell = True"
   ]
  },
  {
   "cell_type": "code",
   "execution_count": 250,
   "metadata": {},
   "outputs": [
    {
     "data": {
      "text/plain": [
       "array([[-2.22044605e-16,  5.55111512e-17,  9.06355632e+00],\n",
       "       [ 1.59203323e+00,  9.19160815e-01,  1.06271127e+01],\n",
       "       [ 1.59203323e+00,  9.19160815e-01,  7.50000000e+00]])"
      ]
     },
     "execution_count": 250,
     "metadata": {},
     "output_type": "execute_result"
    }
   ],
   "source": [
    "crystal.cart_coords"
   ]
  },
  {
   "cell_type": "code",
   "execution_count": 1,
   "metadata": {},
   "outputs": [],
   "source": [
    "import os\n",
    "import shutil\n",
    "import json\n",
    "\n",
    "import numpy as np\n",
    "import dgl\n",
    "import torch\n",
    "from pymatgen.core.structure import Structure\n",
    "import pandas as pd\n",
    "# import cugraph\n",
    "# import cudf\n",
    "from dgl import backend as F\n",
    "from copy import deepcopy\n",
    "import matplotlib.pyplot as plt\n",
    "from pymatgen.electronic_structure.core import Orbital\n",
    "from pymatgen.io.cif import CifWriter \n",
    "import scipy.constants as C"
   ]
  },
  {
   "cell_type": "code",
   "execution_count": 2,
   "metadata": {},
   "outputs": [],
   "source": [
    "cif_files = '/media/pigz2538/e30413cf-5429-46b3-8fe9-ea458052c437/文档/cifspin/ciffiles'\n",
    "cif_files_rotate = '/media/pigz2538/e30413cf-5429-46b3-8fe9-ea458052c437/文档/cifspin/spinall'"
   ]
  },
  {
   "cell_type": "code",
   "execution_count": 3,
   "metadata": {},
   "outputs": [],
   "source": [
    "def spincif(original, aim):\n",
    "    if not os.path.exists(aim):\n",
    "        os.makedirs(aim)\n",
    "\n",
    "    rad2theta = {'30': np.pi / 6, '60': np.pi / 3, '90': np.pi / 2, \n",
    "                 '120': np.pi * 2 / 3, '150': np.pi * 5 / 6, '180': np.pi, \n",
    "                 '210': np.pi * 7 / 6, '240': np.pi * 4 / 3, '270': np.pi * 2 / 3,\n",
    "                 '300': np.pi * 5 / 3, '330': np.pi * 11 / 6}\n",
    "    axises = {'x': np.array([1,0,0])}\n",
    "\n",
    "    for theta in rad2theta.keys():\n",
    "        for axis in axises.keys():\n",
    "            for root, dirs, files in os.walk(original):\n",
    "                for file in files:\n",
    "                # 选取后缀名为.cif的文件\n",
    "                    if file.endswith(\".cif\"):\n",
    "                        crystal = Structure.from_file(os.path.join(original, file))\n",
    "                        crystal.rotate_sites([0,1,2],theta=rad2theta[theta],axis=axises[axis],anchor=[0.5,0.5,0.5], to_unit_cell=False)\n",
    "                        crystal.to_file(os.path.join(aim, file[:-4] + '_' + axis + '_' + theta + '.cif'))"
   ]
  },
  {
   "cell_type": "code",
   "execution_count": 4,
   "metadata": {},
   "outputs": [
    {
     "name": "stderr",
     "output_type": "stream",
     "text": [
      "/home/pigz2538/Tools/anaconda3/envs/matformer/lib/python3.10/site-packages/pymatgen/io/cif.py:1199: UserWarning: Issues encountered while parsing CIF: 4 fractional coordinates rounded to ideal values to avoid issues with finite precision.\n",
      "  warnings.warn(\"Issues encountered while parsing CIF: \" + \"\\n\".join(self.warnings))\n"
     ]
    }
   ],
   "source": [
    "spincif(cif_files, cif_files_rotate)"
   ]
  },
  {
   "cell_type": "markdown",
   "metadata": {},
   "source": []
  },
  {
   "cell_type": "code",
   "execution_count": 5,
   "metadata": {},
   "outputs": [],
   "source": [
    "data_path = '/media/pigz2538/e30413cf-5429-46b3-8fe9-ea458052c437/文档/cifspin/original'\n",
    "cifspin_path = '/media/pigz2538/e30413cf-5429-46b3-8fe9-ea458052c437/文档/cifspin/spinall'\n",
    "spin_data_path = '/media/pigz2538/e30413cf-5429-46b3-8fe9-ea458052c437/文档/cifspin/spindata'\n",
    "\n",
    "for root, dirs, files in os.walk(cifspin_path):\n",
    "    for file in files:\n",
    "    # 选取后缀名为.cif的文件\n",
    "        if file.endswith(\".cif\"):\n",
    "            name = file.split('_')[0] + '_' + file.split('_')[1]\n",
    "            axis = file.split('_')[2]\n",
    "            angle = file.split('_')[3].replace('.cif','')\n",
    "\n",
    "            folder = os.path.join(spin_data_path, name + '_' + axis + '_' + angle)\n",
    "\n",
    "            if not os.path.exists(folder):\n",
    "                os.makedirs(folder)\n",
    "            \n",
    "            shutil.copy2(os.path.join(cifspin_path, file), os.path.join(folder, file))\n",
    "\n",
    "            find_path = os.path.join(data_path, name)\n",
    "            for root2, dirs2, files2 in os.walk(find_path):\n",
    "                for file2 in files2:\n",
    "                    if file2.endswith(\".cif\") or file2.endswith(\".txt\"):\n",
    "                        continue\n",
    "                    \n",
    "                    elif file2.endswith(\".json\"):\n",
    "                        with open(os.path.join(find_path, file2), encoding=\"utf-8\") as f:  # 注意编码要和文件编码一致，不加encoding参数默认使用gbk编码读取文件\n",
    "                            config = json.load(f)\n",
    "                        \n",
    "                        config[\"filename\"] = config[\"filename\"].replace('.py','').replace('.txt','').replace('.cif','') + '_' + axis + '_' + angle\n",
    "\n",
    "                        with open(os.path.join(folder, config[\"filename\"] + '.json'), \"w\") as w:\n",
    "                            json.dump(config, w, ensure_ascii=False)\n",
    "                    else:\n",
    "                        shutil.copy2(os.path.join(find_path, file2), os.path.join(folder, file2))"
   ]
  }
 ],
 "metadata": {
  "kernelspec": {
   "display_name": "matformer",
   "language": "python",
   "name": "python3"
  },
  "language_info": {
   "codemirror_mode": {
    "name": "ipython",
    "version": 3
   },
   "file_extension": ".py",
   "mimetype": "text/x-python",
   "name": "python",
   "nbconvert_exporter": "python",
   "pygments_lexer": "ipython3",
   "version": "3.10.13"
  }
 },
 "nbformat": 4,
 "nbformat_minor": 2
}
